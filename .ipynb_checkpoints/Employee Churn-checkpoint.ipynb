{
 "cells": [
  {
   "cell_type": "code",
   "execution_count": 1,
   "id": "e7a026cc-7da4-4204-9bda-7537929be324",
   "metadata": {},
   "outputs": [],
   "source": [
    "import numpy as np\n",
    "import pandas as pd\n",
    "from sklearn.model_selection import train_test_split\n",
    "\n",
    "from tensorflow.keras.models import Sequential\n",
    "from tensorflow.keras.layers import Dense\n",
    "from sklearn.metrics import accuracy_score"
   ]
  },
  {
   "cell_type": "code",
   "execution_count": 2,
   "id": "0cbb222e-c29f-49bb-ad9e-cd8e0e8d8684",
   "metadata": {},
   "outputs": [],
   "source": [
    "employee = pd.read_csv('D:/Code/Python Projects/Employee Churn TensorFlow/Churn.csv')"
   ]
  },
  {
   "cell_type": "code",
   "execution_count": 3,
   "id": "794ec2ec-05e7-4681-8831-c692c7bc8505",
   "metadata": {},
   "outputs": [
    {
     "data": {
      "text/plain": [
       "<bound method NDFrame.head of      Customer ID  Gender  Senior Citizen Partner Dependents  tenure  \\\n",
       "0     7590-VHVEA  Female               0     Yes         No       1   \n",
       "1     7590-VHVEG  Female               0     Yes         No       1   \n",
       "2     5575-GNVDE    Male               0      No         No      34   \n",
       "3     3668-QPYBK    Male               0      No         No       2   \n",
       "4     7795-CFOCW    Male               0      No         No      45   \n",
       "...          ...     ...             ...     ...        ...     ...   \n",
       "7039  6840-RESVB    Male               0     Yes        Yes      24   \n",
       "7040  2234-XADUH  Female               0     Yes        Yes      72   \n",
       "7041  4801-JZAZL  Female               0     Yes        Yes      11   \n",
       "7042  8361-LTMKD    Male               1     Yes         No       4   \n",
       "7043  3186-AJIEK    Male               0      No         No      66   \n",
       "\n",
       "     Phone Service    Multiple Lines Internet Service Online Security  ...  \\\n",
       "0               No  No phone service              DSL              No  ...   \n",
       "1               No  No phone service              DSL              No  ...   \n",
       "2              Yes                No              DSL             Yes  ...   \n",
       "3              Yes                No              DSL             Yes  ...   \n",
       "4               No  No phone service              DSL             Yes  ...   \n",
       "...            ...               ...              ...             ...  ...   \n",
       "7039           Yes               Yes              DSL             Yes  ...   \n",
       "7040           Yes               Yes      Fiber optic              No  ...   \n",
       "7041            No  No phone service              DSL             Yes  ...   \n",
       "7042           Yes               Yes      Fiber optic              No  ...   \n",
       "7043           Yes                No      Fiber optic             Yes  ...   \n",
       "\n",
       "     Device Protection Tech Support Streaming TV Streaming Movies  \\\n",
       "0                   No           No           No               No   \n",
       "1                   No           No           No               No   \n",
       "2                  Yes           No           No               No   \n",
       "3                   No           No           No               No   \n",
       "4                  Yes          Yes           No               No   \n",
       "...                ...          ...          ...              ...   \n",
       "7039               Yes          Yes          Yes              Yes   \n",
       "7040               Yes           No          Yes              Yes   \n",
       "7041                No           No           No               No   \n",
       "7042                No           No           No               No   \n",
       "7043               Yes          Yes          Yes              Yes   \n",
       "\n",
       "            Contract Paperless Billing             Payment Method  \\\n",
       "0     Month-to-month               Yes           Electronic check   \n",
       "1     Month-to-month               Yes           Electronic check   \n",
       "2           One year                No               Mailed check   \n",
       "3     Month-to-month               Yes               Mailed check   \n",
       "4           One year                No  Bank transfer (automatic)   \n",
       "...              ...               ...                        ...   \n",
       "7039        One year               Yes               Mailed check   \n",
       "7040        One year               Yes    Credit card (automatic)   \n",
       "7041  Month-to-month               Yes           Electronic check   \n",
       "7042  Month-to-month               Yes               Mailed check   \n",
       "7043        Two year               Yes  Bank transfer (automatic)   \n",
       "\n",
       "     Monthly Charges  Total Charges Churn  \n",
       "0              29.85          29.85    No  \n",
       "1              29.85          29.85    No  \n",
       "2              56.95         1889.5    No  \n",
       "3              53.85         108.15   Yes  \n",
       "4              42.30        1840.75    No  \n",
       "...              ...            ...   ...  \n",
       "7039           84.80         1990.5    No  \n",
       "7040          103.20         7362.9    No  \n",
       "7041           29.60         346.45    No  \n",
       "7042           74.40          306.6   Yes  \n",
       "7043          105.65         6844.5    No  \n",
       "\n",
       "[7044 rows x 21 columns]>"
      ]
     },
     "execution_count": 3,
     "metadata": {},
     "output_type": "execute_result"
    }
   ],
   "source": [
    "employee.head"
   ]
  },
  {
   "cell_type": "code",
   "execution_count": 4,
   "id": "e94eb239-bcfd-4d86-be5e-d4bc15107ffd",
   "metadata": {},
   "outputs": [],
   "source": [
    "# We drop 2 columns that are not relavant to the dataset to prevent overfitting\n",
    "# ['Churn'] is dropped because it is the target variable\n",
    "# ['Customer ID'] is dropped because it does not contribute any value to the dataset and therefore might cause mis-labeling\n",
    "# get_dummies is a way of \"one-hot encoding\" used to convert categorical variables to binary encoded variables"
   ]
  },
  {
   "cell_type": "code",
   "execution_count": 5,
   "id": "813efd39-5097-40d7-9eff-ae7b45da845b",
   "metadata": {},
   "outputs": [
    {
     "data": {
      "text/plain": [
       "Index(['Customer ID', 'Gender', 'Senior Citizen', 'Partner', 'Dependents',\n",
       "       'tenure', 'Phone Service', 'Multiple Lines', 'Internet Service',\n",
       "       'Online Security', 'Online Backup', 'Device Protection', 'Tech Support',\n",
       "       'Streaming TV', 'Streaming Movies', 'Contract', 'Paperless Billing',\n",
       "       'Payment Method', 'Monthly Charges', 'Total Charges', 'Churn'],\n",
       "      dtype='object')"
      ]
     },
     "execution_count": 5,
     "metadata": {},
     "output_type": "execute_result"
    }
   ],
   "source": [
    "employee.columns"
   ]
  },
  {
   "cell_type": "code",
   "execution_count": 6,
   "id": "4d8c22f1-d102-4c2f-ac1c-69f05de75c89",
   "metadata": {},
   "outputs": [],
   "source": [
    "X = pd.get_dummies(employee.drop(['Churn', 'Customer ID'], axis=1))\n",
    "y = employee['Churn'].apply(lambda x: 1 if x=='Yes' else 0)"
   ]
  },
  {
   "cell_type": "code",
   "execution_count": 7,
   "id": "e617df6e-32ed-4f22-9b1d-d4dbf5bd7e42",
   "metadata": {},
   "outputs": [
    {
     "data": {
      "text/plain": [
       "Index(['Senior Citizen', 'tenure', 'Monthly Charges', 'Gender_Female',\n",
       "       'Gender_Male', 'Partner_No', 'Partner_Yes', 'Dependents_No',\n",
       "       'Dependents_Yes', 'Phone Service_No',\n",
       "       ...\n",
       "       'Total Charges_995.35', 'Total Charges_996.45', 'Total Charges_996.85',\n",
       "       'Total Charges_996.95', 'Total Charges_997.65', 'Total Charges_997.75',\n",
       "       'Total Charges_998.1', 'Total Charges_999.45', 'Total Charges_999.8',\n",
       "       'Total Charges_999.9'],\n",
       "      dtype='object', length=6575)"
      ]
     },
     "execution_count": 7,
     "metadata": {},
     "output_type": "execute_result"
    }
   ],
   "source": [
    "# Notable increase in the number of total columns. This is due to the one-hot encoding performed on the categorical variables\n",
    "X.columns"
   ]
  },
  {
   "cell_type": "code",
   "execution_count": 8,
   "id": "dab4ecb3-ccb1-4c87-be74-b7fd86a98f4d",
   "metadata": {},
   "outputs": [],
   "source": [
    "X_train, X_test, y_train, y_test = train_test_split(X, y, test_size=0.2, random_state = 42)"
   ]
  },
  {
   "cell_type": "code",
   "execution_count": 9,
   "id": "f8d30740-e038-4604-ba50-cb6785a81ebf",
   "metadata": {},
   "outputs": [
    {
     "data": {
      "text/plain": [
       "<bound method NDFrame.head of       Senior Citizen  tenure  Monthly Charges  Gender_Female  Gender_Male  \\\n",
       "1161               1      23            95.10           True        False   \n",
       "3780               1      66            79.40          False         True   \n",
       "3044               1       2            30.40           True        False   \n",
       "4085               0       1            78.05           True        False   \n",
       "1362               0       4            78.45          False         True   \n",
       "...              ...     ...              ...            ...          ...   \n",
       "3772               0       1            79.05          False         True   \n",
       "5191               1      29           103.95          False         True   \n",
       "5226               0      72           104.45          False         True   \n",
       "5390               0      51            69.15           True        False   \n",
       "860                0      72            64.80          False         True   \n",
       "\n",
       "      Partner_No  Partner_Yes  Dependents_No  Dependents_Yes  \\\n",
       "1161       False         True           True           False   \n",
       "3780       False         True          False            True   \n",
       "3044        True        False           True           False   \n",
       "4085        True        False           True           False   \n",
       "1362        True        False           True           False   \n",
       "...          ...          ...            ...             ...   \n",
       "3772        True        False           True           False   \n",
       "5191       False         True          False            True   \n",
       "5226       False         True          False            True   \n",
       "5390       False         True           True           False   \n",
       "860        False         True          False            True   \n",
       "\n",
       "      Phone Service_No  ...  Total Charges_995.35  Total Charges_996.45  \\\n",
       "1161             False  ...                 False                 False   \n",
       "3780             False  ...                 False                 False   \n",
       "3044              True  ...                 False                 False   \n",
       "4085             False  ...                 False                 False   \n",
       "1362             False  ...                 False                 False   \n",
       "...                ...  ...                   ...                   ...   \n",
       "3772             False  ...                 False                 False   \n",
       "5191             False  ...                 False                 False   \n",
       "5226             False  ...                 False                 False   \n",
       "5390             False  ...                 False                 False   \n",
       "860               True  ...                 False                 False   \n",
       "\n",
       "      Total Charges_996.85  Total Charges_996.95  Total Charges_997.65  \\\n",
       "1161                 False                 False                 False   \n",
       "3780                 False                 False                 False   \n",
       "3044                 False                 False                 False   \n",
       "4085                 False                 False                 False   \n",
       "1362                 False                 False                 False   \n",
       "...                    ...                   ...                   ...   \n",
       "3772                 False                 False                 False   \n",
       "5191                 False                 False                 False   \n",
       "5226                 False                 False                 False   \n",
       "5390                 False                 False                 False   \n",
       "860                  False                 False                 False   \n",
       "\n",
       "      Total Charges_997.75  Total Charges_998.1  Total Charges_999.45  \\\n",
       "1161                 False                False                 False   \n",
       "3780                 False                False                 False   \n",
       "3044                 False                False                 False   \n",
       "4085                 False                False                 False   \n",
       "1362                 False                False                 False   \n",
       "...                    ...                  ...                   ...   \n",
       "3772                 False                False                 False   \n",
       "5191                 False                False                 False   \n",
       "5226                 False                False                 False   \n",
       "5390                 False                False                 False   \n",
       "860                  False                False                 False   \n",
       "\n",
       "      Total Charges_999.8  Total Charges_999.9  \n",
       "1161                False                False  \n",
       "3780                False                False  \n",
       "3044                False                False  \n",
       "4085                False                False  \n",
       "1362                False                False  \n",
       "...                   ...                  ...  \n",
       "3772                False                False  \n",
       "5191                False                False  \n",
       "5226                False                False  \n",
       "5390                False                False  \n",
       "860                 False                False  \n",
       "\n",
       "[5635 rows x 6575 columns]>"
      ]
     },
     "execution_count": 9,
     "metadata": {},
     "output_type": "execute_result"
    }
   ],
   "source": [
    "X_train.head"
   ]
  },
  {
   "cell_type": "code",
   "execution_count": 10,
   "id": "468f4113-4417-446f-ae17-4d3bd4f73bb8",
   "metadata": {},
   "outputs": [
    {
     "data": {
      "text/plain": [
       "<bound method NDFrame.head of 1161    0\n",
       "3780    1\n",
       "3044    1\n",
       "4085    1\n",
       "1362    1\n",
       "       ..\n",
       "3772    1\n",
       "5191    0\n",
       "5226    0\n",
       "5390    0\n",
       "860     0\n",
       "Name: Churn, Length: 5635, dtype: int64>"
      ]
     },
     "execution_count": 10,
     "metadata": {},
     "output_type": "execute_result"
    }
   ],
   "source": [
    "y_train.head"
   ]
  },
  {
   "cell_type": "markdown",
   "id": "9712ba67-ce8b-403e-99c3-c0c2646fbed3",
   "metadata": {},
   "source": [
    "**Build the layers**"
   ]
  },
  {
   "cell_type": "code",
   "execution_count": 11,
   "id": "ed3dcd1e-e78e-4775-babe-8e12f9df202b",
   "metadata": {},
   "outputs": [],
   "source": [
    "#Creates a new sequential object. It is a linear stack of layers, each layer having exactly one tensor i/p and o/p each\n",
    "model = Sequential()"
   ]
  },
  {
   "cell_type": "markdown",
   "id": "f1071bb1-c3ef-467e-9840-6d296d207981",
   "metadata": {},
   "source": [
    "**ReLu - Rectified Linear Unit. It is an activation function used to introduce non-linearity in the data.**"
   ]
  },
  {
   "cell_type": "markdown",
   "id": "9ef779a3-a338-4d44-be12-23b26bac55f4",
   "metadata": {},
   "source": [
    "**It works by holding the minimum value at zero and max value as input. Thus removing linearity in the Neural Network. value=value.max(\"-ve value\", 0)**"
   ]
  },
  {
   "cell_type": "code",
   "execution_count": 12,
   "id": "9460f846-3a35-4e58-ae31-47ddf7bc183c",
   "metadata": {},
   "outputs": [
    {
     "name": "stderr",
     "output_type": "stream",
     "text": [
      "D:\\Apps\\Py\\Lib\\site-packages\\keras\\src\\layers\\core\\dense.py:87: UserWarning: Do not pass an `input_shape`/`input_dim` argument to a layer. When using Sequential models, prefer using an `Input(shape)` object as the first layer in the model instead.\n",
      "  super().__init__(activity_regularizer=activity_regularizer, **kwargs)\n"
     ]
    }
   ],
   "source": [
    "#Consists of 3 fully connected (\"Dense\") layers\n",
    "#model.add is used to add a dense layer to the model stack\n",
    "model.add(Dense(units=32, activation='relu', input_dim=len(X_train.columns))) #consists of 32 neurons; input_dim specifies input size\n",
    "model.add(Dense(units=64, activation='relu')) #consists of 64 neurons\n",
    "model.add(Dense(units=1, activation='sigmoid')) #units = 1 limits op to one value. Sigmoid fn. used in binary classification for binary o/p. "
   ]
  },
  {
   "cell_type": "code",
   "execution_count": 17,
   "id": "7cbc1260-13e3-4972-89da-9bce9f75a5d8",
   "metadata": {},
   "outputs": [],
   "source": [
    "#Warning us that mentioning \"input_dim\" value is unnecessary because keras can figure out shape based on input data.\n",
    "#Explicity mentioning size may result in unwanted errors and confusion."
   ]
  },
  {
   "cell_type": "markdown",
   "id": "f175b5b5-7ff3-4142-8e74-229fa6235d74",
   "metadata": {},
   "source": [
    "**Compile the model**"
   ]
  },
  {
   "cell_type": "markdown",
   "id": "f001a1d3-53cd-47b2-b2e8-da25c9103292",
   "metadata": {},
   "source": [
    "**loss: Specifies the loss function. Basically the sum of distances between the actual and predicted values. Binary crossentropy is commonly used for binary classification examples**"
   ]
  },
  {
   "cell_type": "markdown",
   "id": "212c973f-e063-46cd-b838-bc2c31f88590",
   "metadata": {},
   "source": [
    "**optimizer: Stochastic Gradient Descent (sgd). specifies the optimizer algortihm used for updating weights of the network during training. Updates weights by updating gradient of the loss fn wrt weights and adjusting weights to minimize loss.**"
   ]
  },
  {
   "cell_type": "markdown",
   "id": "e5f30ebe-82eb-48ad-91d2-cfe16ace5a43",
   "metadata": {},
   "source": [
    "**metrics: allows to evaluate model performance**"
   ]
  },
  {
   "cell_type": "code",
   "execution_count": 18,
   "id": "1dd3efec-2015-4573-b1a1-8a147a11cc41",
   "metadata": {},
   "outputs": [],
   "source": [
    "model.compile(loss='binary_crossentropy', optimizer='sgd', metrics=['accuracy'])"
   ]
  },
  {
   "cell_type": "markdown",
   "id": "4571af1a-3aa6-4ae7-bd08-39a343c56747",
   "metadata": {},
   "source": [
    "**Fit the model**"
   ]
  },
  {
   "cell_type": "markdown",
   "id": "20e538da-9a99-424d-8c4f-904889583836",
   "metadata": {},
   "source": [
    "**1 epoch translates to one forward and one backward pass to compute prediction and updates weights based on loss fn respectively. Increasing the number of epochs will allow multiple passes to fine tune weight assignment and minimize loss**"
   ]
  },
  {
   "cell_type": "markdown",
   "id": "5353e401-ffdf-4def-9f75-7d357417955b",
   "metadata": {},
   "source": [
    "**batch_size specifies the number of elements processed in each iteration. Batch processing is faster and uses less memory.**"
   ]
  },
  {
   "cell_type": "code",
   "execution_count": 14,
   "id": "09b675d6-6395-4079-a903-62c5288581ed",
   "metadata": {},
   "outputs": [
    {
     "name": "stdout",
     "output_type": "stream",
     "text": [
      "Epoch 1/100\n",
      "\u001b[1m177/177\u001b[0m \u001b[32m━━━━━━━━━━━━━━━━━━━━\u001b[0m\u001b[37m\u001b[0m \u001b[1m1s\u001b[0m 4ms/step - accuracy: 0.7327 - loss: 0.5338\n",
      "Epoch 2/100\n",
      "\u001b[1m177/177\u001b[0m \u001b[32m━━━━━━━━━━━━━━━━━━━━\u001b[0m\u001b[37m\u001b[0m \u001b[1m1s\u001b[0m 3ms/step - accuracy: 0.7704 - loss: 0.4937\n",
      "Epoch 3/100\n",
      "\u001b[1m177/177\u001b[0m \u001b[32m━━━━━━━━━━━━━━━━━━━━\u001b[0m\u001b[37m\u001b[0m \u001b[1m1s\u001b[0m 4ms/step - accuracy: 0.7671 - loss: 0.4860\n",
      "Epoch 4/100\n",
      "\u001b[1m177/177\u001b[0m \u001b[32m━━━━━━━━━━━━━━━━━━━━\u001b[0m\u001b[37m\u001b[0m \u001b[1m1s\u001b[0m 4ms/step - accuracy: 0.7660 - loss: 0.4911\n",
      "Epoch 5/100\n",
      "\u001b[1m177/177\u001b[0m \u001b[32m━━━━━━━━━━━━━━━━━━━━\u001b[0m\u001b[37m\u001b[0m \u001b[1m1s\u001b[0m 4ms/step - accuracy: 0.7722 - loss: 0.4955\n",
      "Epoch 6/100\n",
      "\u001b[1m177/177\u001b[0m \u001b[32m━━━━━━━━━━━━━━━━━━━━\u001b[0m\u001b[37m\u001b[0m \u001b[1m1s\u001b[0m 3ms/step - accuracy: 0.7811 - loss: 0.4767\n",
      "Epoch 7/100\n",
      "\u001b[1m177/177\u001b[0m \u001b[32m━━━━━━━━━━━━━━━━━━━━\u001b[0m\u001b[37m\u001b[0m \u001b[1m1s\u001b[0m 4ms/step - accuracy: 0.7737 - loss: 0.4854\n",
      "Epoch 8/100\n",
      "\u001b[1m177/177\u001b[0m \u001b[32m━━━━━━━━━━━━━━━━━━━━\u001b[0m\u001b[37m\u001b[0m \u001b[1m1s\u001b[0m 3ms/step - accuracy: 0.7732 - loss: 0.4740\n",
      "Epoch 9/100\n",
      "\u001b[1m177/177\u001b[0m \u001b[32m━━━━━━━━━━━━━━━━━━━━\u001b[0m\u001b[37m\u001b[0m \u001b[1m1s\u001b[0m 4ms/step - accuracy: 0.7686 - loss: 0.4785\n",
      "Epoch 10/100\n",
      "\u001b[1m177/177\u001b[0m \u001b[32m━━━━━━━━━━━━━━━━━━━━\u001b[0m\u001b[37m\u001b[0m \u001b[1m1s\u001b[0m 4ms/step - accuracy: 0.7766 - loss: 0.4762\n",
      "Epoch 11/100\n",
      "\u001b[1m177/177\u001b[0m \u001b[32m━━━━━━━━━━━━━━━━━━━━\u001b[0m\u001b[37m\u001b[0m \u001b[1m1s\u001b[0m 4ms/step - accuracy: 0.7884 - loss: 0.4603\n",
      "Epoch 12/100\n",
      "\u001b[1m177/177\u001b[0m \u001b[32m━━━━━━━━━━━━━━━━━━━━\u001b[0m\u001b[37m\u001b[0m \u001b[1m1s\u001b[0m 4ms/step - accuracy: 0.7755 - loss: 0.4730\n",
      "Epoch 13/100\n",
      "\u001b[1m177/177\u001b[0m \u001b[32m━━━━━━━━━━━━━━━━━━━━\u001b[0m\u001b[37m\u001b[0m \u001b[1m1s\u001b[0m 4ms/step - accuracy: 0.7836 - loss: 0.4608\n",
      "Epoch 14/100\n",
      "\u001b[1m177/177\u001b[0m \u001b[32m━━━━━━━━━━━━━━━━━━━━\u001b[0m\u001b[37m\u001b[0m \u001b[1m1s\u001b[0m 3ms/step - accuracy: 0.7817 - loss: 0.4613\n",
      "Epoch 15/100\n",
      "\u001b[1m177/177\u001b[0m \u001b[32m━━━━━━━━━━━━━━━━━━━━\u001b[0m\u001b[37m\u001b[0m \u001b[1m1s\u001b[0m 3ms/step - accuracy: 0.7771 - loss: 0.4622\n",
      "Epoch 16/100\n",
      "\u001b[1m177/177\u001b[0m \u001b[32m━━━━━━━━━━━━━━━━━━━━\u001b[0m\u001b[37m\u001b[0m \u001b[1m1s\u001b[0m 3ms/step - accuracy: 0.7757 - loss: 0.4747\n",
      "Epoch 17/100\n",
      "\u001b[1m177/177\u001b[0m \u001b[32m━━━━━━━━━━━━━━━━━━━━\u001b[0m\u001b[37m\u001b[0m \u001b[1m1s\u001b[0m 3ms/step - accuracy: 0.7766 - loss: 0.4625\n",
      "Epoch 18/100\n",
      "\u001b[1m177/177\u001b[0m \u001b[32m━━━━━━━━━━━━━━━━━━━━\u001b[0m\u001b[37m\u001b[0m \u001b[1m1s\u001b[0m 3ms/step - accuracy: 0.7794 - loss: 0.4594\n",
      "Epoch 19/100\n",
      "\u001b[1m177/177\u001b[0m \u001b[32m━━━━━━━━━━━━━━━━━━━━\u001b[0m\u001b[37m\u001b[0m \u001b[1m1s\u001b[0m 3ms/step - accuracy: 0.7842 - loss: 0.4560\n",
      "Epoch 20/100\n",
      "\u001b[1m177/177\u001b[0m \u001b[32m━━━━━━━━━━━━━━━━━━━━\u001b[0m\u001b[37m\u001b[0m \u001b[1m1s\u001b[0m 4ms/step - accuracy: 0.7805 - loss: 0.4546\n",
      "Epoch 21/100\n",
      "\u001b[1m177/177\u001b[0m \u001b[32m━━━━━━━━━━━━━━━━━━━━\u001b[0m\u001b[37m\u001b[0m \u001b[1m1s\u001b[0m 3ms/step - accuracy: 0.7808 - loss: 0.4635\n",
      "Epoch 22/100\n",
      "\u001b[1m177/177\u001b[0m \u001b[32m━━━━━━━━━━━━━━━━━━━━\u001b[0m\u001b[37m\u001b[0m \u001b[1m1s\u001b[0m 4ms/step - accuracy: 0.7910 - loss: 0.4586\n",
      "Epoch 23/100\n",
      "\u001b[1m177/177\u001b[0m \u001b[32m━━━━━━━━━━━━━━━━━━━━\u001b[0m\u001b[37m\u001b[0m \u001b[1m1s\u001b[0m 4ms/step - accuracy: 0.7796 - loss: 0.4510\n",
      "Epoch 24/100\n",
      "\u001b[1m177/177\u001b[0m \u001b[32m━━━━━━━━━━━━━━━━━━━━\u001b[0m\u001b[37m\u001b[0m \u001b[1m1s\u001b[0m 4ms/step - accuracy: 0.7748 - loss: 0.4663\n",
      "Epoch 25/100\n",
      "\u001b[1m177/177\u001b[0m \u001b[32m━━━━━━━━━━━━━━━━━━━━\u001b[0m\u001b[37m\u001b[0m \u001b[1m1s\u001b[0m 4ms/step - accuracy: 0.7906 - loss: 0.4454\n",
      "Epoch 26/100\n",
      "\u001b[1m177/177\u001b[0m \u001b[32m━━━━━━━━━━━━━━━━━━━━\u001b[0m\u001b[37m\u001b[0m \u001b[1m1s\u001b[0m 3ms/step - accuracy: 0.7826 - loss: 0.4700\n",
      "Epoch 27/100\n",
      "\u001b[1m177/177\u001b[0m \u001b[32m━━━━━━━━━━━━━━━━━━━━\u001b[0m\u001b[37m\u001b[0m \u001b[1m1s\u001b[0m 4ms/step - accuracy: 0.7764 - loss: 0.4562\n",
      "Epoch 28/100\n",
      "\u001b[1m177/177\u001b[0m \u001b[32m━━━━━━━━━━━━━━━━━━━━\u001b[0m\u001b[37m\u001b[0m \u001b[1m1s\u001b[0m 4ms/step - accuracy: 0.7692 - loss: 0.4753\n",
      "Epoch 29/100\n",
      "\u001b[1m177/177\u001b[0m \u001b[32m━━━━━━━━━━━━━━━━━━━━\u001b[0m\u001b[37m\u001b[0m \u001b[1m1s\u001b[0m 3ms/step - accuracy: 0.7818 - loss: 0.4588\n",
      "Epoch 30/100\n",
      "\u001b[1m177/177\u001b[0m \u001b[32m━━━━━━━━━━━━━━━━━━━━\u001b[0m\u001b[37m\u001b[0m \u001b[1m1s\u001b[0m 3ms/step - accuracy: 0.7849 - loss: 0.4550\n",
      "Epoch 31/100\n",
      "\u001b[1m177/177\u001b[0m \u001b[32m━━━━━━━━━━━━━━━━━━━━\u001b[0m\u001b[37m\u001b[0m \u001b[1m1s\u001b[0m 4ms/step - accuracy: 0.7855 - loss: 0.4567\n",
      "Epoch 32/100\n",
      "\u001b[1m177/177\u001b[0m \u001b[32m━━━━━━━━━━━━━━━━━━━━\u001b[0m\u001b[37m\u001b[0m \u001b[1m1s\u001b[0m 3ms/step - accuracy: 0.7749 - loss: 0.4660\n",
      "Epoch 33/100\n",
      "\u001b[1m177/177\u001b[0m \u001b[32m━━━━━━━━━━━━━━━━━━━━\u001b[0m\u001b[37m\u001b[0m \u001b[1m1s\u001b[0m 3ms/step - accuracy: 0.7807 - loss: 0.4493\n",
      "Epoch 34/100\n",
      "\u001b[1m177/177\u001b[0m \u001b[32m━━━━━━━━━━━━━━━━━━━━\u001b[0m\u001b[37m\u001b[0m \u001b[1m1s\u001b[0m 3ms/step - accuracy: 0.7761 - loss: 0.4511\n",
      "Epoch 35/100\n",
      "\u001b[1m177/177\u001b[0m \u001b[32m━━━━━━━━━━━━━━━━━━━━\u001b[0m\u001b[37m\u001b[0m \u001b[1m1s\u001b[0m 3ms/step - accuracy: 0.7792 - loss: 0.4597\n",
      "Epoch 36/100\n",
      "\u001b[1m177/177\u001b[0m \u001b[32m━━━━━━━━━━━━━━━━━━━━\u001b[0m\u001b[37m\u001b[0m \u001b[1m1s\u001b[0m 3ms/step - accuracy: 0.7904 - loss: 0.4496\n",
      "Epoch 37/100\n",
      "\u001b[1m177/177\u001b[0m \u001b[32m━━━━━━━━━━━━━━━━━━━━\u001b[0m\u001b[37m\u001b[0m \u001b[1m1s\u001b[0m 3ms/step - accuracy: 0.7988 - loss: 0.4368\n",
      "Epoch 38/100\n",
      "\u001b[1m177/177\u001b[0m \u001b[32m━━━━━━━━━━━━━━━━━━━━\u001b[0m\u001b[37m\u001b[0m \u001b[1m1s\u001b[0m 3ms/step - accuracy: 0.7751 - loss: 0.4618\n",
      "Epoch 39/100\n",
      "\u001b[1m177/177\u001b[0m \u001b[32m━━━━━━━━━━━━━━━━━━━━\u001b[0m\u001b[37m\u001b[0m \u001b[1m1s\u001b[0m 3ms/step - accuracy: 0.7817 - loss: 0.4554\n",
      "Epoch 40/100\n",
      "\u001b[1m177/177\u001b[0m \u001b[32m━━━━━━━━━━━━━━━━━━━━\u001b[0m\u001b[37m\u001b[0m \u001b[1m1s\u001b[0m 3ms/step - accuracy: 0.7815 - loss: 0.4513\n",
      "Epoch 41/100\n",
      "\u001b[1m177/177\u001b[0m \u001b[32m━━━━━━━━━━━━━━━━━━━━\u001b[0m\u001b[37m\u001b[0m \u001b[1m1s\u001b[0m 3ms/step - accuracy: 0.7933 - loss: 0.4474\n",
      "Epoch 42/100\n",
      "\u001b[1m177/177\u001b[0m \u001b[32m━━━━━━━━━━━━━━━━━━━━\u001b[0m\u001b[37m\u001b[0m \u001b[1m1s\u001b[0m 3ms/step - accuracy: 0.7747 - loss: 0.4601\n",
      "Epoch 43/100\n",
      "\u001b[1m177/177\u001b[0m \u001b[32m━━━━━━━━━━━━━━━━━━━━\u001b[0m\u001b[37m\u001b[0m \u001b[1m1s\u001b[0m 3ms/step - accuracy: 0.7768 - loss: 0.4668\n",
      "Epoch 44/100\n",
      "\u001b[1m177/177\u001b[0m \u001b[32m━━━━━━━━━━━━━━━━━━━━\u001b[0m\u001b[37m\u001b[0m \u001b[1m1s\u001b[0m 3ms/step - accuracy: 0.7891 - loss: 0.4492\n",
      "Epoch 45/100\n",
      "\u001b[1m177/177\u001b[0m \u001b[32m━━━━━━━━━━━━━━━━━━━━\u001b[0m\u001b[37m\u001b[0m \u001b[1m1s\u001b[0m 3ms/step - accuracy: 0.7864 - loss: 0.4415\n",
      "Epoch 46/100\n",
      "\u001b[1m177/177\u001b[0m \u001b[32m━━━━━━━━━━━━━━━━━━━━\u001b[0m\u001b[37m\u001b[0m \u001b[1m1s\u001b[0m 3ms/step - accuracy: 0.7871 - loss: 0.4470\n",
      "Epoch 47/100\n",
      "\u001b[1m177/177\u001b[0m \u001b[32m━━━━━━━━━━━━━━━━━━━━\u001b[0m\u001b[37m\u001b[0m \u001b[1m1s\u001b[0m 3ms/step - accuracy: 0.7866 - loss: 0.4505\n",
      "Epoch 48/100\n",
      "\u001b[1m177/177\u001b[0m \u001b[32m━━━━━━━━━━━━━━━━━━━━\u001b[0m\u001b[37m\u001b[0m \u001b[1m1s\u001b[0m 3ms/step - accuracy: 0.7899 - loss: 0.4481\n",
      "Epoch 49/100\n",
      "\u001b[1m177/177\u001b[0m \u001b[32m━━━━━━━━━━━━━━━━━━━━\u001b[0m\u001b[37m\u001b[0m \u001b[1m1s\u001b[0m 3ms/step - accuracy: 0.7905 - loss: 0.4287\n",
      "Epoch 50/100\n",
      "\u001b[1m177/177\u001b[0m \u001b[32m━━━━━━━━━━━━━━━━━━━━\u001b[0m\u001b[37m\u001b[0m \u001b[1m1s\u001b[0m 3ms/step - accuracy: 0.7945 - loss: 0.4435\n",
      "Epoch 51/100\n",
      "\u001b[1m177/177\u001b[0m \u001b[32m━━━━━━━━━━━━━━━━━━━━\u001b[0m\u001b[37m\u001b[0m \u001b[1m1s\u001b[0m 3ms/step - accuracy: 0.7799 - loss: 0.4497\n",
      "Epoch 52/100\n",
      "\u001b[1m177/177\u001b[0m \u001b[32m━━━━━━━━━━━━━━━━━━━━\u001b[0m\u001b[37m\u001b[0m \u001b[1m1s\u001b[0m 4ms/step - accuracy: 0.7740 - loss: 0.4636\n",
      "Epoch 53/100\n",
      "\u001b[1m177/177\u001b[0m \u001b[32m━━━━━━━━━━━━━━━━━━━━\u001b[0m\u001b[37m\u001b[0m \u001b[1m1s\u001b[0m 4ms/step - accuracy: 0.7839 - loss: 0.4438\n",
      "Epoch 54/100\n",
      "\u001b[1m177/177\u001b[0m \u001b[32m━━━━━━━━━━━━━━━━━━━━\u001b[0m\u001b[37m\u001b[0m \u001b[1m1s\u001b[0m 4ms/step - accuracy: 0.7705 - loss: 0.4611\n",
      "Epoch 55/100\n",
      "\u001b[1m177/177\u001b[0m \u001b[32m━━━━━━━━━━━━━━━━━━━━\u001b[0m\u001b[37m\u001b[0m \u001b[1m1s\u001b[0m 3ms/step - accuracy: 0.7917 - loss: 0.4339\n",
      "Epoch 56/100\n",
      "\u001b[1m177/177\u001b[0m \u001b[32m━━━━━━━━━━━━━━━━━━━━\u001b[0m\u001b[37m\u001b[0m \u001b[1m1s\u001b[0m 4ms/step - accuracy: 0.7853 - loss: 0.4497\n",
      "Epoch 57/100\n",
      "\u001b[1m177/177\u001b[0m \u001b[32m━━━━━━━━━━━━━━━━━━━━\u001b[0m\u001b[37m\u001b[0m \u001b[1m1s\u001b[0m 3ms/step - accuracy: 0.7816 - loss: 0.4520\n",
      "Epoch 58/100\n",
      "\u001b[1m177/177\u001b[0m \u001b[32m━━━━━━━━━━━━━━━━━━━━\u001b[0m\u001b[37m\u001b[0m \u001b[1m1s\u001b[0m 3ms/step - accuracy: 0.7839 - loss: 0.4516\n",
      "Epoch 59/100\n",
      "\u001b[1m177/177\u001b[0m \u001b[32m━━━━━━━━━━━━━━━━━━━━\u001b[0m\u001b[37m\u001b[0m \u001b[1m1s\u001b[0m 3ms/step - accuracy: 0.7857 - loss: 0.4496\n",
      "Epoch 60/100\n",
      "\u001b[1m177/177\u001b[0m \u001b[32m━━━━━━━━━━━━━━━━━━━━\u001b[0m\u001b[37m\u001b[0m \u001b[1m1s\u001b[0m 4ms/step - accuracy: 0.7929 - loss: 0.4379\n",
      "Epoch 61/100\n",
      "\u001b[1m177/177\u001b[0m \u001b[32m━━━━━━━━━━━━━━━━━━━━\u001b[0m\u001b[37m\u001b[0m \u001b[1m1s\u001b[0m 4ms/step - accuracy: 0.7905 - loss: 0.4500\n",
      "Epoch 62/100\n",
      "\u001b[1m177/177\u001b[0m \u001b[32m━━━━━━━━━━━━━━━━━━━━\u001b[0m\u001b[37m\u001b[0m \u001b[1m1s\u001b[0m 4ms/step - accuracy: 0.7906 - loss: 0.4408\n",
      "Epoch 63/100\n",
      "\u001b[1m177/177\u001b[0m \u001b[32m━━━━━━━━━━━━━━━━━━━━\u001b[0m\u001b[37m\u001b[0m \u001b[1m1s\u001b[0m 4ms/step - accuracy: 0.7994 - loss: 0.4301\n",
      "Epoch 64/100\n",
      "\u001b[1m177/177\u001b[0m \u001b[32m━━━━━━━━━━━━━━━━━━━━\u001b[0m\u001b[37m\u001b[0m \u001b[1m1s\u001b[0m 4ms/step - accuracy: 0.7855 - loss: 0.4442\n",
      "Epoch 65/100\n",
      "\u001b[1m177/177\u001b[0m \u001b[32m━━━━━━━━━━━━━━━━━━━━\u001b[0m\u001b[37m\u001b[0m \u001b[1m1s\u001b[0m 3ms/step - accuracy: 0.7901 - loss: 0.4381\n",
      "Epoch 66/100\n",
      "\u001b[1m177/177\u001b[0m \u001b[32m━━━━━━━━━━━━━━━━━━━━\u001b[0m\u001b[37m\u001b[0m \u001b[1m1s\u001b[0m 3ms/step - accuracy: 0.7927 - loss: 0.4316\n",
      "Epoch 67/100\n",
      "\u001b[1m177/177\u001b[0m \u001b[32m━━━━━━━━━━━━━━━━━━━━\u001b[0m\u001b[37m\u001b[0m \u001b[1m1s\u001b[0m 4ms/step - accuracy: 0.7823 - loss: 0.4381\n",
      "Epoch 68/100\n",
      "\u001b[1m177/177\u001b[0m \u001b[32m━━━━━━━━━━━━━━━━━━━━\u001b[0m\u001b[37m\u001b[0m \u001b[1m1s\u001b[0m 3ms/step - accuracy: 0.7861 - loss: 0.4371\n",
      "Epoch 69/100\n",
      "\u001b[1m177/177\u001b[0m \u001b[32m━━━━━━━━━━━━━━━━━━━━\u001b[0m\u001b[37m\u001b[0m \u001b[1m1s\u001b[0m 4ms/step - accuracy: 0.7849 - loss: 0.4418\n",
      "Epoch 70/100\n",
      "\u001b[1m177/177\u001b[0m \u001b[32m━━━━━━━━━━━━━━━━━━━━\u001b[0m\u001b[37m\u001b[0m \u001b[1m1s\u001b[0m 4ms/step - accuracy: 0.7883 - loss: 0.4371\n",
      "Epoch 71/100\n",
      "\u001b[1m177/177\u001b[0m \u001b[32m━━━━━━━━━━━━━━━━━━━━\u001b[0m\u001b[37m\u001b[0m \u001b[1m1s\u001b[0m 4ms/step - accuracy: 0.7750 - loss: 0.4451\n",
      "Epoch 72/100\n",
      "\u001b[1m177/177\u001b[0m \u001b[32m━━━━━━━━━━━━━━━━━━━━\u001b[0m\u001b[37m\u001b[0m \u001b[1m1s\u001b[0m 3ms/step - accuracy: 0.7828 - loss: 0.4433\n",
      "Epoch 73/100\n",
      "\u001b[1m177/177\u001b[0m \u001b[32m━━━━━━━━━━━━━━━━━━━━\u001b[0m\u001b[37m\u001b[0m \u001b[1m1s\u001b[0m 3ms/step - accuracy: 0.7930 - loss: 0.4360\n",
      "Epoch 74/100\n",
      "\u001b[1m177/177\u001b[0m \u001b[32m━━━━━━━━━━━━━━━━━━━━\u001b[0m\u001b[37m\u001b[0m \u001b[1m1s\u001b[0m 4ms/step - accuracy: 0.7887 - loss: 0.4399\n",
      "Epoch 75/100\n",
      "\u001b[1m177/177\u001b[0m \u001b[32m━━━━━━━━━━━━━━━━━━━━\u001b[0m\u001b[37m\u001b[0m \u001b[1m1s\u001b[0m 4ms/step - accuracy: 0.7963 - loss: 0.4387\n",
      "Epoch 76/100\n",
      "\u001b[1m177/177\u001b[0m \u001b[32m━━━━━━━━━━━━━━━━━━━━\u001b[0m\u001b[37m\u001b[0m \u001b[1m1s\u001b[0m 4ms/step - accuracy: 0.7928 - loss: 0.4335\n",
      "Epoch 77/100\n",
      "\u001b[1m177/177\u001b[0m \u001b[32m━━━━━━━━━━━━━━━━━━━━\u001b[0m\u001b[37m\u001b[0m \u001b[1m1s\u001b[0m 3ms/step - accuracy: 0.7840 - loss: 0.4446\n",
      "Epoch 78/100\n",
      "\u001b[1m177/177\u001b[0m \u001b[32m━━━━━━━━━━━━━━━━━━━━\u001b[0m\u001b[37m\u001b[0m \u001b[1m1s\u001b[0m 4ms/step - accuracy: 0.7924 - loss: 0.4383\n",
      "Epoch 79/100\n",
      "\u001b[1m177/177\u001b[0m \u001b[32m━━━━━━━━━━━━━━━━━━━━\u001b[0m\u001b[37m\u001b[0m \u001b[1m1s\u001b[0m 4ms/step - accuracy: 0.7790 - loss: 0.4407\n",
      "Epoch 80/100\n",
      "\u001b[1m177/177\u001b[0m \u001b[32m━━━━━━━━━━━━━━━━━━━━\u001b[0m\u001b[37m\u001b[0m \u001b[1m1s\u001b[0m 3ms/step - accuracy: 0.7923 - loss: 0.4282\n",
      "Epoch 81/100\n",
      "\u001b[1m177/177\u001b[0m \u001b[32m━━━━━━━━━━━━━━━━━━━━\u001b[0m\u001b[37m\u001b[0m \u001b[1m1s\u001b[0m 4ms/step - accuracy: 0.7887 - loss: 0.4439\n",
      "Epoch 82/100\n",
      "\u001b[1m177/177\u001b[0m \u001b[32m━━━━━━━━━━━━━━━━━━━━\u001b[0m\u001b[37m\u001b[0m \u001b[1m1s\u001b[0m 3ms/step - accuracy: 0.7902 - loss: 0.4537\n",
      "Epoch 83/100\n",
      "\u001b[1m177/177\u001b[0m \u001b[32m━━━━━━━━━━━━━━━━━━━━\u001b[0m\u001b[37m\u001b[0m \u001b[1m1s\u001b[0m 4ms/step - accuracy: 0.7987 - loss: 0.4262\n",
      "Epoch 84/100\n",
      "\u001b[1m177/177\u001b[0m \u001b[32m━━━━━━━━━━━━━━━━━━━━\u001b[0m\u001b[37m\u001b[0m \u001b[1m1s\u001b[0m 4ms/step - accuracy: 0.7992 - loss: 0.4302\n",
      "Epoch 85/100\n",
      "\u001b[1m177/177\u001b[0m \u001b[32m━━━━━━━━━━━━━━━━━━━━\u001b[0m\u001b[37m\u001b[0m \u001b[1m1s\u001b[0m 4ms/step - accuracy: 0.7944 - loss: 0.4404\n",
      "Epoch 86/100\n",
      "\u001b[1m177/177\u001b[0m \u001b[32m━━━━━━━━━━━━━━━━━━━━\u001b[0m\u001b[37m\u001b[0m \u001b[1m1s\u001b[0m 3ms/step - accuracy: 0.7880 - loss: 0.4412\n",
      "Epoch 87/100\n",
      "\u001b[1m177/177\u001b[0m \u001b[32m━━━━━━━━━━━━━━━━━━━━\u001b[0m\u001b[37m\u001b[0m \u001b[1m1s\u001b[0m 4ms/step - accuracy: 0.7883 - loss: 0.4409\n",
      "Epoch 88/100\n",
      "\u001b[1m177/177\u001b[0m \u001b[32m━━━━━━━━━━━━━━━━━━━━\u001b[0m\u001b[37m\u001b[0m \u001b[1m1s\u001b[0m 4ms/step - accuracy: 0.7939 - loss: 0.4325\n",
      "Epoch 89/100\n",
      "\u001b[1m177/177\u001b[0m \u001b[32m━━━━━━━━━━━━━━━━━━━━\u001b[0m\u001b[37m\u001b[0m \u001b[1m1s\u001b[0m 4ms/step - accuracy: 0.7891 - loss: 0.4300\n",
      "Epoch 90/100\n",
      "\u001b[1m177/177\u001b[0m \u001b[32m━━━━━━━━━━━━━━━━━━━━\u001b[0m\u001b[37m\u001b[0m \u001b[1m1s\u001b[0m 3ms/step - accuracy: 0.7887 - loss: 0.4432\n",
      "Epoch 91/100\n",
      "\u001b[1m177/177\u001b[0m \u001b[32m━━━━━━━━━━━━━━━━━━━━\u001b[0m\u001b[37m\u001b[0m \u001b[1m1s\u001b[0m 4ms/step - accuracy: 0.7957 - loss: 0.4281\n",
      "Epoch 92/100\n",
      "\u001b[1m177/177\u001b[0m \u001b[32m━━━━━━━━━━━━━━━━━━━━\u001b[0m\u001b[37m\u001b[0m \u001b[1m1s\u001b[0m 4ms/step - accuracy: 0.7923 - loss: 0.4375\n",
      "Epoch 93/100\n",
      "\u001b[1m177/177\u001b[0m \u001b[32m━━━━━━━━━━━━━━━━━━━━\u001b[0m\u001b[37m\u001b[0m \u001b[1m1s\u001b[0m 3ms/step - accuracy: 0.7962 - loss: 0.4302\n",
      "Epoch 94/100\n",
      "\u001b[1m177/177\u001b[0m \u001b[32m━━━━━━━━━━━━━━━━━━━━\u001b[0m\u001b[37m\u001b[0m \u001b[1m1s\u001b[0m 3ms/step - accuracy: 0.7809 - loss: 0.4461\n",
      "Epoch 95/100\n",
      "\u001b[1m177/177\u001b[0m \u001b[32m━━━━━━━━━━━━━━━━━━━━\u001b[0m\u001b[37m\u001b[0m \u001b[1m1s\u001b[0m 3ms/step - accuracy: 0.7936 - loss: 0.4415\n",
      "Epoch 96/100\n",
      "\u001b[1m177/177\u001b[0m \u001b[32m━━━━━━━━━━━━━━━━━━━━\u001b[0m\u001b[37m\u001b[0m \u001b[1m1s\u001b[0m 3ms/step - accuracy: 0.7837 - loss: 0.4333\n",
      "Epoch 97/100\n",
      "\u001b[1m177/177\u001b[0m \u001b[32m━━━━━━━━━━━━━━━━━━━━\u001b[0m\u001b[37m\u001b[0m \u001b[1m1s\u001b[0m 3ms/step - accuracy: 0.7897 - loss: 0.4442\n",
      "Epoch 98/100\n",
      "\u001b[1m177/177\u001b[0m \u001b[32m━━━━━━━━━━━━━━━━━━━━\u001b[0m\u001b[37m\u001b[0m \u001b[1m1s\u001b[0m 3ms/step - accuracy: 0.7968 - loss: 0.4230\n",
      "Epoch 99/100\n",
      "\u001b[1m177/177\u001b[0m \u001b[32m━━━━━━━━━━━━━━━━━━━━\u001b[0m\u001b[37m\u001b[0m \u001b[1m1s\u001b[0m 3ms/step - accuracy: 0.8024 - loss: 0.4355\n",
      "Epoch 100/100\n",
      "\u001b[1m177/177\u001b[0m \u001b[32m━━━━━━━━━━━━━━━━━━━━\u001b[0m\u001b[37m\u001b[0m \u001b[1m1s\u001b[0m 3ms/step - accuracy: 0.7894 - loss: 0.4406\n"
     ]
    },
    {
     "data": {
      "text/plain": [
       "<keras.src.callbacks.history.History at 0x258a6fa2de0>"
      ]
     },
     "execution_count": 14,
     "metadata": {},
     "output_type": "execute_result"
    }
   ],
   "source": [
    "model.fit(X_train, y_train, epochs=100, batch_size=32)"
   ]
  },
  {
   "cell_type": "markdown",
   "id": "231756ab-315f-4c8f-a143-49c77417c0a3",
   "metadata": {},
   "source": [
    "**Prediction**"
   ]
  },
  {
   "cell_type": "code",
   "execution_count": 19,
   "id": "8bbed4ff-c5ab-4b47-9bb5-2c8b500599d3",
   "metadata": {},
   "outputs": [
    {
     "name": "stdout",
     "output_type": "stream",
     "text": [
      "\u001b[1m45/45\u001b[0m \u001b[32m━━━━━━━━━━━━━━━━━━━━\u001b[0m\u001b[37m\u001b[0m \u001b[1m0s\u001b[0m 3ms/step\n"
     ]
    }
   ],
   "source": [
    "y_prediction = model.predict(X_test)"
   ]
  },
  {
   "cell_type": "code",
   "execution_count": 20,
   "id": "0c0e8a7f-9d30-4ce0-ba72-83e8f207288e",
   "metadata": {},
   "outputs": [],
   "source": [
    "#tensorflow will give output as continuous value bw 0 and 1.\n",
    "#Standardize values to 0 and 1\n",
    "y_prediction = [0 if val < 0.5 else 1 for val in y_prediction]"
   ]
  },
  {
   "cell_type": "markdown",
   "id": "df5b325e-a5a1-4d94-bf3b-3cf5482a1567",
   "metadata": {},
   "source": [
    "**Accuracy Score**"
   ]
  },
  {
   "cell_type": "code",
   "execution_count": 24,
   "id": "c1c942fa-4c7a-42bb-86cb-7432a6d733c2",
   "metadata": {},
   "outputs": [
    {
     "name": "stdout",
     "output_type": "stream",
     "text": [
      "Accuracy of this network: 74.521 %\n"
     ]
    }
   ],
   "source": [
    "accuracy = accuracy_score(y_test, y_prediction)\n",
    "print(\"Accuracy of this network:\", round(accuracy,5)*100,\"%\")"
   ]
  },
  {
   "cell_type": "markdown",
   "id": "ce44184f-313b-4009-8a6e-54e072edb647",
   "metadata": {},
   "source": [
    "***Currently ran 100 epochs because observed approx 80% accuracy in a few cases. Running the model for more epochs can result in higher accuracy.**"
   ]
  }
 ],
 "metadata": {
  "kernelspec": {
   "display_name": "Python 3 (ipykernel)",
   "language": "python",
   "name": "python3"
  },
  "language_info": {
   "codemirror_mode": {
    "name": "ipython",
    "version": 3
   },
   "file_extension": ".py",
   "mimetype": "text/x-python",
   "name": "python",
   "nbconvert_exporter": "python",
   "pygments_lexer": "ipython3",
   "version": "3.12.2"
  }
 },
 "nbformat": 4,
 "nbformat_minor": 5
}
