{
 "cells": [
  {
   "cell_type": "code",
   "execution_count": null,
   "id": "e7a026cc-7da4-4204-9bda-7537929be324",
   "metadata": {},
   "outputs": [],
   "source": []
  }
 ],
 "metadata": {
  "kernelspec": {
   "display_name": "",
   "name": ""
  },
  "language_info": {
   "name": ""
  }
 },
 "nbformat": 4,
 "nbformat_minor": 5
}
